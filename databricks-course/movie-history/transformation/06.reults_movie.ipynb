{
 "cells": [
  {
   "cell_type": "markdown",
   "metadata": {
    "application/vnd.databricks.v1+cell": {
     "cellMetadata": {
      "byteLimit": 2048000,
      "rowLimit": 10000
     },
     "inputWidgets": {},
     "nuid": "e5c170cb-f3cf-4925-a77e-a7a512bf4e7f",
     "showTitle": false,
     "tableResultSettingsMap": {},
     "title": ""
    }
   },
   "source": [
    "### Crear tabla results_movies en la capa \"gold\""
   ]
  },
  {
   "cell_type": "code",
   "execution_count": 0,
   "metadata": {
    "application/vnd.databricks.v1+cell": {
     "cellMetadata": {
      "byteLimit": 2048000,
      "rowLimit": 10000
     },
     "inputWidgets": {},
     "nuid": "83c32920-8a61-45e2-94d3-f3c1498edff8",
     "showTitle": false,
     "tableResultSettingsMap": {},
     "title": ""
    }
   },
   "outputs": [],
   "source": [
    "dbutils.widgets.text(\"p_file_date\",\"2024-12-23\")\n",
    "v_file_date=dbutils.widgets.get(\"p_file_date\")"
   ]
  },
  {
   "cell_type": "code",
   "execution_count": 0,
   "metadata": {
    "application/vnd.databricks.v1+cell": {
     "cellMetadata": {
      "byteLimit": 2048000,
      "rowLimit": 10000
     },
     "inputWidgets": {},
     "nuid": "2536609b-21cd-436a-8615-779b8e224208",
     "showTitle": false,
     "tableResultSettingsMap": {},
     "title": ""
    }
   },
   "outputs": [],
   "source": [
    "spark.sql(\"\"\"\n",
    "         CREATE TABLE IF NOT EXISTS movie_gold.results_movie\n",
    "         (\n",
    "             year_release_date INT,\n",
    "             country_name STRING,\n",
    "             company_name STRING,\n",
    "             budget FLOAT,\n",
    "             revenue FLOAT,\n",
    "             movie_id INT,\n",
    "             country_id INT,\n",
    "             company_id INT,\n",
    "             created_date DATE,\n",
    "             updated_date DATE\n",
    "         ) \n",
    "         USING DELTA  \n",
    "          \"\"\")"
   ]
  },
  {
   "cell_type": "code",
   "execution_count": 0,
   "metadata": {
    "application/vnd.databricks.v1+cell": {
     "cellMetadata": {
      "byteLimit": 2048000,
      "rowLimit": 10000
     },
     "inputWidgets": {},
     "nuid": "f5d6a696-0280-4b01-9026-50e53d9c8f2d",
     "showTitle": false,
     "tableResultSettingsMap": {},
     "title": ""
    }
   },
   "outputs": [],
   "source": [
    "spark.sql(f\"\"\"\n",
    "    CREATE OR REPLACE TEMP VIEW v_results_movie\n",
    "    AS\n",
    "    SELECT M.year_release_date, C.country_name, PCO.company_name, M.budget, M.revenue, M.movie_id,C.country_id,PCO.company_id\n",
    "    FROM movie_silver.movies M\n",
    "    INNER JOIN movie_silver.production_countries PC ON M.movie_id = PC.movie_id\n",
    "    INNER JOIN movie_silver.country C ON PC.country_id = C.country_id\n",
    "    INNER JOIN movie_silver.movies_companies MC on M.movie_id = MC.movie_id\n",
    "    INNER JOIN movie_silver.productions_companies PCO on MC.company_id = PCO.company_id\n",
    "    WHERE M.file_date = '{v_file_date}'\n",
    "\"\"\")"
   ]
  },
  {
   "cell_type": "code",
   "execution_count": 0,
   "metadata": {
    "application/vnd.databricks.v1+cell": {
     "cellMetadata": {
      "byteLimit": 2048000,
      "implicitDf": true,
      "rowLimit": 10000
     },
     "inputWidgets": {},
     "nuid": "f04ae330-e66c-4897-939e-7e123ea8ed92",
     "showTitle": false,
     "tableResultSettingsMap": {},
     "title": ""
    }
   },
   "outputs": [],
   "source": [
    "%sql\n",
    "SELECT * FROM v_results_movie"
   ]
  },
  {
   "cell_type": "code",
   "execution_count": 0,
   "metadata": {
    "application/vnd.databricks.v1+cell": {
     "cellMetadata": {
      "byteLimit": 2048000,
      "implicitDf": true,
      "rowLimit": 10000
     },
     "inputWidgets": {},
     "nuid": "10b43e6e-2f43-47b2-a55f-ba98f526728f",
     "showTitle": false,
     "tableResultSettingsMap": {},
     "title": ""
    }
   },
   "outputs": [],
   "source": [
    "spark.sql(\"\"\"\n",
    "    MERGE INTO movie_gold.results_movie tgt\n",
    "    USING v_results_movie src\n",
    "    ON (tgt.movie_id = src.movie_id AND tgt.country_id = src.country_id AND tgt.company_id = src.company_id)\n",
    "    WHEN MATCHED THEN\n",
    "    UPDATE SET\n",
    "        tgt.year_release_date = src.year_release_date,\n",
    "        tgt.country_name = src.country_name,\n",
    "        tgt.company_name = src.company_name,\n",
    "        tgt.budget = src.budget,\n",
    "        tgt.revenue =src.revenue,\n",
    "        tgt.updated_date = current_timestamp\n",
    "    WHEN NOT MATCHED\n",
    "    THEN INSERT ( year_release_date, country_name,company_name,budget,revenue,movie_id,country_id,company_id,created_date)\n",
    "    VALUES (year_release_date, country_name,company_name,budget,revenue,movie_id,country_id,company_id,current_timestamp)\n",
    "  \"\"\")"
   ]
  },
  {
   "cell_type": "code",
   "execution_count": 0,
   "metadata": {
    "application/vnd.databricks.v1+cell": {
     "cellMetadata": {
      "byteLimit": 2048000,
      "implicitDf": true,
      "rowLimit": 10000
     },
     "inputWidgets": {},
     "nuid": "46f71c89-97f6-49f8-81bf-fc3490d27501",
     "showTitle": false,
     "tableResultSettingsMap": {},
     "title": ""
    }
   },
   "outputs": [],
   "source": [
    "%sql\n",
    "SELECT count(1) FROM v_results_movie;"
   ]
  },
  {
   "cell_type": "code",
   "execution_count": 0,
   "metadata": {
    "application/vnd.databricks.v1+cell": {
     "cellMetadata": {
      "byteLimit": 2048000,
      "implicitDf": true,
      "rowLimit": 10000
     },
     "inputWidgets": {},
     "nuid": "9060846c-a481-4f6f-b589-8db5b96a7f57",
     "showTitle": false,
     "tableResultSettingsMap": {
      "0": {
       "dataGridStateBlob": "{\"version\":1,\"tableState\":{\"columnPinning\":{\"left\":[\"#row_number#\"],\"right\":[]},\"columnSizing\":{},\"columnVisibility\":{}},\"settings\":{\"columns\":{}},\"syncTimestamp\":1755686259777}",
       "filterBlob": null,
       "queryPlanFiltersBlob": null,
       "tableResultIndex": 0
      }
     },
     "title": ""
    }
   },
   "outputs": [],
   "source": [
    "%sql\n",
    "SELECT count(1) FROM movie_gold.results_movie;"
   ]
  }
 ],
 "metadata": {
  "application/vnd.databricks.v1+notebook": {
   "computePreferences": null,
   "dashboards": [],
   "environmentMetadata": {
    "base_environment": "",
    "environment_version": "2"
   },
   "inputWidgetPreferences": null,
   "language": "python",
   "notebookMetadata": {
    "mostRecentlyExecutedCommandWithImplicitDF": {
     "commandId": 5866449506682719,
     "dataframes": [
      "_sqldf"
     ]
    },
    "pythonIndentUnit": 4
   },
   "notebookName": "06.reults_movie",
   "widgets": {
    "p_file_date": {
     "currentValue": "2024-12-16",
     "nuid": "9c147dd4-8820-4fd9-8edd-0f96250135bb",
     "typedWidgetInfo": {
      "autoCreated": false,
      "defaultValue": "2024-12-23",
      "label": null,
      "name": "p_file_date",
      "options": {
       "widgetDisplayType": "Text",
       "validationRegex": null
      },
      "parameterDataType": "String"
     },
     "widgetInfo": {
      "widgetType": "text",
      "defaultValue": "2024-12-23",
      "label": null,
      "name": "p_file_date",
      "options": {
       "widgetType": "text",
       "autoCreated": null,
       "validationRegex": null
      }
     }
    }
   }
  },
  "language_info": {
   "name": "python"
  }
 },
 "nbformat": 4,
 "nbformat_minor": 0
}
