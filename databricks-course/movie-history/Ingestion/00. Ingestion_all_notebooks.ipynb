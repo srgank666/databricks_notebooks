{
 "cells": [
  {
   "cell_type": "code",
   "execution_count": 0,
   "metadata": {
    "application/vnd.databricks.v1+cell": {
     "cellMetadata": {
      "byteLimit": 2048000,
      "rowLimit": 10000
     },
     "inputWidgets": {},
     "nuid": "95bbd18f-186f-4cac-b1cf-314ebd7ac802",
     "showTitle": false,
     "tableResultSettingsMap": {},
     "title": ""
    }
   },
   "outputs": [],
   "source": [
    "dbutils.widgets.text(\"p_file_date\",\"2024-12-30\")\n",
    "v_file_date = dbutils.widgets.get(\"p_file_date\")"
   ]
  },
  {
   "cell_type": "code",
   "execution_count": 0,
   "metadata": {
    "application/vnd.databricks.v1+cell": {
     "cellMetadata": {
      "byteLimit": 2048000,
      "rowLimit": 10000
     },
     "inputWidgets": {},
     "nuid": "1851adb9-82d3-460d-9233-acad537c828e",
     "showTitle": false,
     "tableResultSettingsMap": {},
     "title": ""
    }
   },
   "outputs": [],
   "source": [
    "v_result = dbutils.notebook.run(\"01. Ingestion_file_movie\",0,{\"p_enviroment\": \"production\",\"p_file_date\": v_file_date})\n",
    "v_result2 = dbutils.notebook.run(\"02. Ingestion_file_language\",0,{\"p_enviroment\": \"production\",\"p_file_date\": v_file_date})\n",
    "v_result3 = dbutils.notebook.run(\"03. Ingestion_file_genre\",0,{\"p_enviroment\": \"production\",\"p_file_date\": v_file_date})\n",
    "v_result4 = dbutils.notebook.run(\"04. Ingestion_file_country\",0,{\"p_enviroment\": \"production\",\"p_file_date\": v_file_date})\n",
    "v_result5 = dbutils.notebook.run(\"05. Ingestion_file_person\",0,{\"p_enviroment\": \"production\",\"p_file_date\": v_file_date})\n",
    "v_result6 = dbutils.notebook.run(\"06. Ingestion_file_movie_genre\",0,{\"p_enviroment\": \"production\",\"p_file_date\": v_file_date})\n",
    "v_result7 = dbutils.notebook.run(\"07. Ingestion_file_movie_cast\",0,{\"p_enviroment\": \"production\",\"p_file_date\": v_file_date})\n",
    "v_result8 = dbutils.notebook.run(\"08. Ingestion_file_language_role\",0,{\"p_enviroment\": \"production\",\"p_file_date\": v_file_date})\n",
    "v_result9 = dbutils.notebook.run(\"09. Ingestion_folder_production_company\",0,{\"p_enviroment\": \"production\",\"p_file_date\": v_file_date})\n",
    "v_result10 = dbutils.notebook.run(\"10. Ingestion_folder_movie_company\",0,{\"p_enviroment\": \"production\",\"p_file_date\": v_file_date})\n",
    "v_result11 = dbutils.notebook.run(\"11. Ingestion_folder_movies_languages\",0,{\"p_enviroment\": \"production\",\"p_file_date\": v_file_date})\n",
    "v_result12 = dbutils.notebook.run(\"12. Ingestion_folder_production_country\",0,{\"p_enviroment\": \"production\",\"p_file_date\": v_file_date})"
   ]
  },
  {
   "cell_type": "code",
   "execution_count": 0,
   "metadata": {
    "application/vnd.databricks.v1+cell": {
     "cellMetadata": {
      "byteLimit": 2048000,
      "rowLimit": 10000
     },
     "inputWidgets": {},
     "nuid": "49aa6053-e3f6-4a46-a563-1ff9f3c6003c",
     "showTitle": false,
     "tableResultSettingsMap": {},
     "title": ""
    }
   },
   "outputs": [],
   "source": [
    "v_result"
   ]
  }
 ],
 "metadata": {
  "application/vnd.databricks.v1+notebook": {
   "computePreferences": null,
   "dashboards": [],
   "environmentMetadata": {
    "base_environment": "",
    "environment_version": "2"
   },
   "inputWidgetPreferences": null,
   "language": "python",
   "notebookMetadata": {
    "pythonIndentUnit": 4
   },
   "notebookName": "00. Ingestion_all_notebooks",
   "widgets": {
    "p_file_date": {
     "currentValue": "2024-12-30",
     "nuid": "0a725e7b-805b-4ae4-9e3b-922a762c4cd4",
     "typedWidgetInfo": {
      "autoCreated": false,
      "defaultValue": "2024-12-30",
      "label": null,
      "name": "p_file_date",
      "options": {
       "widgetDisplayType": "Text",
       "validationRegex": null
      },
      "parameterDataType": "String"
     },
     "widgetInfo": {
      "widgetType": "text",
      "defaultValue": "2024-12-30",
      "label": null,
      "name": "p_file_date",
      "options": {
       "widgetType": "text",
       "autoCreated": null,
       "validationRegex": null
      }
     }
    }
   }
  },
  "language_info": {
   "name": "python"
  }
 },
 "nbformat": 4,
 "nbformat_minor": 0
}
